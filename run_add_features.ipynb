{
 "cells": [
  {
   "cell_type": "code",
   "execution_count": 1,
   "metadata": {},
   "outputs": [],
   "source": [
    "import pandas as pd\n",
    "from pathlib import Path\n",
    "import logging\n",
    "import import_ipynb\n",
    "from new_strategy import Asset, BetSizingMethod\n",
    "from add_features import generate_meta_labeled_data, add_rolling_stats, merge_with_raw_features\n",
    "\n",
    "logging.basicConfig(level=logging.INFO, format='%(asctime)s - %(levelname)s - %(message)s')\n",
    "logger = logging.getLogger(__name__)"
   ]
  },
  {
   "cell_type": "code",
   "execution_count": 2,
   "metadata": {},
   "outputs": [
    {
     "name": "stderr",
     "output_type": "stream",
     "text": [
      "2025-05-15 11:57:29,272 - INFO - Generating meta labels and features for trades_detailed_XAUUSD_kelly.csv\n",
      "2025-05-15 11:57:45,322 - INFO - Saved meta-labeled file: meta_labels_XAUUSD_kelly.csv\n",
      "2025-05-15 11:57:45,324 - INFO - Generating meta labels and features for trades_detailed_XAUUSD_fixed.csv\n",
      "2025-05-15 11:58:01,342 - INFO - Saved meta-labeled file: meta_labels_XAUUSD_fixed.csv\n",
      "2025-05-15 11:58:01,344 - INFO - Generating meta labels and features for trades_detailed_XAUUSD_fixed_amount.csv\n",
      "2025-05-15 11:58:17,153 - INFO - Saved meta-labeled file: meta_labels_XAUUSD_fixed_amount.csv\n",
      "2025-05-15 11:58:17,155 - INFO - Generating meta labels and features for trades_detailed_XAUUSD_percent_volatility.csv\n",
      "2025-05-15 11:58:32,866 - INFO - Saved meta-labeled file: meta_labels_XAUUSD_percent_volatility.csv\n",
      "2025-05-15 11:58:32,868 - INFO - Generating meta labels and features for trades_detailed_XAUUSD_optimal_f.csv\n",
      "2025-05-15 11:58:48,580 - INFO - Saved meta-labeled file: meta_labels_XAUUSD_optimal_f.csv\n",
      "2025-05-15 11:58:48,582 - INFO - Generating meta labels and features for trades_detailed_XAUUSD_optimal_f2.csv\n",
      "2025-05-15 11:59:04,370 - INFO - Saved meta-labeled file: meta_labels_XAUUSD_optimal_f2.csv\n",
      "2025-05-15 11:59:04,373 - WARNING - File not found: trades_detailed_BTCUSD_kelly.csv\n",
      "2025-05-15 11:59:04,373 - WARNING - File not found: trades_detailed_BTCUSD_fixed.csv\n",
      "2025-05-15 11:59:04,373 - WARNING - File not found: trades_detailed_BTCUSD_fixed_amount.csv\n",
      "2025-05-15 11:59:04,374 - WARNING - File not found: trades_detailed_BTCUSD_percent_volatility.csv\n",
      "2025-05-15 11:59:04,374 - WARNING - File not found: trades_detailed_BTCUSD_optimal_f.csv\n",
      "2025-05-15 11:59:04,374 - WARNING - File not found: trades_detailed_BTCUSD_optimal_f2.csv\n",
      "2025-05-15 11:59:04,375 - WARNING - File not found: trades_detailed_SPYUSD_kelly.csv\n",
      "2025-05-15 11:59:04,375 - WARNING - File not found: trades_detailed_SPYUSD_fixed.csv\n",
      "2025-05-15 11:59:04,375 - WARNING - File not found: trades_detailed_SPYUSD_fixed_amount.csv\n",
      "2025-05-15 11:59:04,375 - WARNING - File not found: trades_detailed_SPYUSD_percent_volatility.csv\n",
      "2025-05-15 11:59:04,375 - WARNING - File not found: trades_detailed_SPYUSD_optimal_f.csv\n",
      "2025-05-15 11:59:04,376 - WARNING - File not found: trades_detailed_SPYUSD_optimal_f2.csv\n",
      "2025-05-15 11:59:04,376 - WARNING - File not found: trades_detailed_WTI_kelly.csv\n",
      "2025-05-15 11:59:04,376 - WARNING - File not found: trades_detailed_WTI_fixed.csv\n",
      "2025-05-15 11:59:04,376 - WARNING - File not found: trades_detailed_WTI_fixed_amount.csv\n",
      "2025-05-15 11:59:04,377 - WARNING - File not found: trades_detailed_WTI_percent_volatility.csv\n",
      "2025-05-15 11:59:04,377 - WARNING - File not found: trades_detailed_WTI_optimal_f.csv\n",
      "2025-05-15 11:59:04,377 - WARNING - File not found: trades_detailed_WTI_optimal_f2.csv\n"
     ]
    }
   ],
   "source": [
    "# Setup logging\n",
    "logging.basicConfig(level=logging.INFO, format=\"%(asctime)s - %(levelname)s - %(message)s\")\n",
    "\n",
    "def run_feature_addition():\n",
    "    results_dir = Path(\"data/results\")\n",
    "    output_dir = Path(\"data/metalabels\")\n",
    "    output_dir.mkdir(parents=True, exist_ok=True)\n",
    "\n",
    "    for asset in Asset:\n",
    "        for method in BetSizingMethod:\n",
    "            filename = f\"trades_detailed_{asset.value}_{method.value}.csv\"\n",
    "            input_path = results_dir / filename\n",
    "\n",
    "            if not input_path.exists():\n",
    "                logging.warning(f\"File not found: {filename}\")\n",
    "                continue\n",
    "\n",
    "            logging.info(f\"Generating meta labels and features for {filename}\")\n",
    "            trade_data = pd.read_csv(input_path, parse_dates=[\"entry_time\", \"exit_time\"])\n",
    "            \n",
    "            # Use the full meta labeling pipeline\n",
    "            labeled_data = generate_meta_labeled_data(trade_data, window=5)\n",
    "            merged_data = merge_with_raw_features(labeled_data, asset.value)\n",
    "\n",
    "            output_file = output_dir / f\"meta_labels_{asset.value}_{method.value}.csv\"\n",
    "            merged_data.to_csv(output_file, index=False)\n",
    "\n",
    "            logging.info(f\"Saved meta-labeled file: {output_file.name}\")\n",
    "\n",
    "run_feature_addition()\n"
   ]
  }
 ],
 "metadata": {
  "kernelspec": {
   "display_name": "Python 3.9.12 ('base')",
   "language": "python",
   "name": "python3"
  },
  "language_info": {
   "codemirror_mode": {
    "name": "ipython",
    "version": 3
   },
   "file_extension": ".py",
   "mimetype": "text/x-python",
   "name": "python",
   "nbconvert_exporter": "python",
   "pygments_lexer": "ipython3",
   "version": "3.9.12"
  },
  "orig_nbformat": 4,
  "vscode": {
   "interpreter": {
    "hash": "da4131570aad7ff77d93c6be89cfb61a61d96547c15666b9d6a932bac1ad3bd2"
   }
  }
 },
 "nbformat": 4,
 "nbformat_minor": 2
}
