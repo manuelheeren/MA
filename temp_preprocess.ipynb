{
 "cells": [
  {
   "cell_type": "code",
   "execution_count": 1,
   "metadata": {},
   "outputs": [],
   "source": [
    "import pandas as pd"
   ]
  },
  {
   "cell_type": "code",
   "execution_count": 3,
   "metadata": {},
   "outputs": [
    {
     "name": "stdout",
     "output_type": "stream",
     "text": [
      "Daily high, low, and close added — combined_data.csv has been overwritten.\n"
     ]
    }
   ],
   "source": [
    "# Load the already merged minute-level data\n",
    "df = pd.read_csv(\"data/processed/XAUUSD/combined_data.csv\", parse_dates=['timestamp'], index_col='timestamp')\n",
    "\n",
    "# Resample to daily OHLC\n",
    "daily_ohlc = df.resample('1D').agg({\n",
    "    'high': 'max',\n",
    "    'low': 'min',\n",
    "    'close': 'last'\n",
    "})\n",
    "\n",
    "# Forward-fill the daily OHLC back into the minute-level data\n",
    "df['daily_high'] = daily_ohlc['high'].reindex(df.index, method='ffill')\n",
    "df['daily_low'] = daily_ohlc['low'].reindex(df.index, method='ffill')\n",
    "df['daily_close'] = daily_ohlc['close'].reindex(df.index, method='ffill')\n",
    "\n",
    "# ✅ Overwrite the original file\n",
    "df.to_csv(\"datasets/processed/XAUUSD/combined_data.csv\")\n",
    "\n",
    "print(\"Daily high, low, and close added — combined_data.csv has been overwritten.\")"
   ]
  }
 ],
 "metadata": {
  "kernelspec": {
   "display_name": "Python 3.9.12 ('base')",
   "language": "python",
   "name": "python3"
  },
  "language_info": {
   "codemirror_mode": {
    "name": "ipython",
    "version": 3
   },
   "file_extension": ".py",
   "mimetype": "text/x-python",
   "name": "python",
   "nbconvert_exporter": "python",
   "pygments_lexer": "ipython3",
   "version": "3.9.12"
  },
  "orig_nbformat": 4,
  "vscode": {
   "interpreter": {
    "hash": "da4131570aad7ff77d93c6be89cfb61a61d96547c15666b9d6a932bac1ad3bd2"
   }
  }
 },
 "nbformat": 4,
 "nbformat_minor": 2
}
