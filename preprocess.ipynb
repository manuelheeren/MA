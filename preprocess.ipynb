{
 "cells": [
  {
   "cell_type": "code",
   "execution_count": 1,
   "metadata": {},
   "outputs": [],
   "source": [
    "import pandas as pd"
   ]
  },
  {
   "cell_type": "code",
   "execution_count": 2,
   "metadata": {},
   "outputs": [
    {
     "name": "stdout",
     "output_type": "stream",
     "text": [
      "True Range, 14-day ATR, and 14/30/100-day MAs added — combined_data.csv has been overwritten.\n"
     ]
    }
   ],
   "source": [
    "# Load the already merged minute-level data\n",
    "df = pd.read_csv(\"data/processed/XAUUSD/combined_data.csv\", parse_dates=['timestamp'], index_col='timestamp')\n",
    "if 'ATR' in df.columns:\n",
    "    df.drop(columns='ATR', inplace=True)\n",
    "\n",
    "# Resample to daily OHLC\n",
    "daily_ohlc = df.resample('1D').agg({\n",
    "    'high': 'max',\n",
    "    'low': 'min',\n",
    "    'close': 'last'\n",
    "})\n",
    "\n",
    "# Calculate previous day's close\n",
    "daily_ohlc['prev_close'] = daily_ohlc['close'].shift(1)\n",
    "\n",
    "# Calculate True Range (TR)\n",
    "daily_ohlc['true_range'] = daily_ohlc.apply(\n",
    "    lambda row: max(\n",
    "        row['high'] - row['low'],\n",
    "        abs(row['high'] - row['prev_close']),\n",
    "        abs(row['low'] - row['prev_close'])\n",
    "    ) if pd.notnull(row['prev_close']) else None,\n",
    "    axis=1\n",
    ")\n",
    "\n",
    "#Calculate 14-day ATR (excluding current day via shift)\n",
    "daily_ohlc['atr_14'] = daily_ohlc['true_range'].rolling(window=14).mean().shift(1)\n",
    "\n",
    "#Calculate moving averages on daily close (also shifted)\n",
    "daily_ohlc['ma_14'] = daily_ohlc['close'].rolling(window=14).mean().shift(1)\n",
    "daily_ohlc['ma_30'] = daily_ohlc['close'].rolling(window=30).mean().shift(1)\n",
    "daily_ohlc['ma_100'] = daily_ohlc['close'].rolling(window=100).mean().shift(1)\n",
    "\n",
    "# Rolling max/min of the daily close\n",
    "daily_ohlc['max_14'] = daily_ohlc['close'].rolling(window=14).max().shift(1)\n",
    "daily_ohlc['min_14'] = daily_ohlc['close'].rolling(window=14).min().shift(1)\n",
    "\n",
    "daily_ohlc['max_30'] = daily_ohlc['close'].rolling(window=30).max().shift(1)\n",
    "daily_ohlc['min_30'] = daily_ohlc['close'].rolling(window=30).min().shift(1)\n",
    "\n",
    "daily_ohlc['max_100'] = daily_ohlc['close'].rolling(window=100).max().shift(1)\n",
    "daily_ohlc['min_100'] = daily_ohlc['close'].rolling(window=100).min().shift(1)\n",
    "\n",
    "# Forward-fill daily values into minute-level data\n",
    "df['daily_high'] = daily_ohlc['high'].reindex(df.index, method='ffill')\n",
    "df['daily_low'] = daily_ohlc['low'].reindex(df.index, method='ffill')\n",
    "df['daily_close'] = daily_ohlc['close'].reindex(df.index, method='ffill')\n",
    "df['true_range'] = daily_ohlc['true_range'].reindex(df.index, method='ffill')\n",
    "df['atr_14'] = daily_ohlc['atr_14'].reindex(df.index, method='ffill')\n",
    "df['ma_14'] = daily_ohlc['ma_14'].reindex(df.index, method='ffill')\n",
    "df['ma_30'] = daily_ohlc['ma_30'].reindex(df.index, method='ffill')\n",
    "df['ma_100'] = daily_ohlc['ma_100'].reindex(df.index, method='ffill')\n",
    "\n",
    "#Day and Weeknumber\n",
    "df['day_of_week'] = df.index.day_name().str[:3]\n",
    "df['week_number'] = df.index.isocalendar().week\n",
    "\n",
    "df['max_price_14'] = daily_ohlc['max_14'].reindex(df.index, method='ffill')\n",
    "df['min_price_14'] = daily_ohlc['min_14'].reindex(df.index, method='ffill')\n",
    "\n",
    "df['max_price_30'] = daily_ohlc['max_30'].reindex(df.index, method='ffill')\n",
    "df['min_price_30'] = daily_ohlc['min_30'].reindex(df.index, method='ffill')\n",
    "\n",
    "df['max_price_100'] = daily_ohlc['max_100'].reindex(df.index, method='ffill')\n",
    "df['min_price_100'] = daily_ohlc['min_100'].reindex(df.index, method='ffill')\n",
    "\n",
    "# Overwrite the original file\n",
    "df.to_csv(\"data/processed/XAUUSD/combined_data.csv\")"
   ]
  }
 ],
 "metadata": {
  "kernelspec": {
   "display_name": "Python 3.9.12 ('base')",
   "language": "python",
   "name": "python3"
  },
  "language_info": {
   "codemirror_mode": {
    "name": "ipython",
    "version": 3
   },
   "file_extension": ".py",
   "mimetype": "text/x-python",
   "name": "python",
   "nbconvert_exporter": "python",
   "pygments_lexer": "ipython3",
   "version": "3.9.12"
  },
  "orig_nbformat": 4,
  "vscode": {
   "interpreter": {
    "hash": "da4131570aad7ff77d93c6be89cfb61a61d96547c15666b9d6a932bac1ad3bd2"
   }
  }
 },
 "nbformat": 4,
 "nbformat_minor": 2
}
