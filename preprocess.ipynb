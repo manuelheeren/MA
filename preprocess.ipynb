{
 "cells": [
  {
   "cell_type": "code",
   "execution_count": 3,
   "metadata": {},
   "outputs": [],
   "source": [
    "import pandas as pd\n",
    "import numpy as np\n",
    "from hmmlearn.hmm import GaussianHMM\n",
    "import yfinance as yf\n",
    "import datetime"
   ]
  },
  {
   "cell_type": "code",
   "execution_count": 6,
   "metadata": {},
   "outputs": [
    {
     "name": "stderr",
     "output_type": "stream",
     "text": [
      "[*********************100%***********************]  1 of 1 completed\n",
      "\n",
      "1 Failed download:\n",
      "['^VIX']: YFRateLimitError('Too Many Requests. Rate limited. Try after a while.')\n"
     ]
    },
    {
     "name": "stdout",
     "output_type": "stream",
     "text": [
      "Empty DataFrame\n",
      "Columns: [(Adj Close, ^VIX), (Close, ^VIX), (High, ^VIX), (Low, ^VIX), (Open, ^VIX), (Volume, ^VIX)]\n",
      "Index: []\n"
     ]
    }
   ],
   "source": [
    "#Get VIX Data\n",
    "ticker_symbol = '^VIX'\n",
    "\n",
    "start_date = '2020-01-01'\n",
    "end_date = datetime.datetime.now().strftime('%Y-%m-%d')\n",
    "\n",
    "vix_data = yf.download(ticker_symbol, start=start_date, end=end_date, interval='1d')\n",
    "print(vix_data.head())\n",
    "\n",
    "vix_data.to_csv(f'VIX_OHLC_{start_date}_to_{end_date}.csv')\n"
   ]
  },
  {
   "cell_type": "code",
   "execution_count": 2,
   "metadata": {},
   "outputs": [
    {
     "name": "stdout",
     "output_type": "stream",
     "text": [
      "Neutral    1114560\n",
      "Bull        839520\n",
      "Bear        593280\n",
      "Name: regime_label, dtype: int64\n"
     ]
    }
   ],
   "source": [
    "# Load the already merged minute-level data\n",
    "df = pd.read_csv(\"data/raw/XAUUSD/combined_data.csv\", parse_dates=['timestamp'], index_col='timestamp')\n",
    "if 'ATR' in df.columns:\n",
    "    df.drop(columns='ATR', inplace=True)\n",
    "\n",
    "# Resample to daily OHLC\n",
    "daily_ohlc = df.resample('1D').agg({\n",
    "    'high': 'max',\n",
    "    'low': 'min',\n",
    "    'close': 'last'\n",
    "})\n",
    "\n",
    "# Calculate previous day's close\n",
    "daily_ohlc['prev_close'] = daily_ohlc['close'].shift(1)\n",
    "\n",
    "# Calculate True Range (TR)\n",
    "daily_ohlc['true_range'] = daily_ohlc.apply(\n",
    "    lambda row: max(\n",
    "        row['high'] - row['low'],\n",
    "        abs(row['high'] - row['prev_close']),\n",
    "        abs(row['low'] - row['prev_close'])\n",
    "    ) if pd.notnull(row['prev_close']) else None,\n",
    "    axis=1\n",
    ")\n",
    "\n",
    "#Calculate 14-day ATR (excluding current day via shift)\n",
    "daily_ohlc['atr_14'] = daily_ohlc['true_range'].rolling(window=14).mean().shift(1)\n",
    "\n",
    "#Calculate moving averages on daily close (also shifted)\n",
    "daily_ohlc['ma_14'] = daily_ohlc['close'].rolling(window=14).mean().shift(1)\n",
    "daily_ohlc['ma_30'] = daily_ohlc['close'].rolling(window=30).mean().shift(1)\n",
    "daily_ohlc['ma_100'] = daily_ohlc['close'].rolling(window=100).mean().shift(1)\n",
    "\n",
    "# Rolling max/min of the daily close\n",
    "daily_ohlc['max_14'] = daily_ohlc['close'].rolling(window=14).max().shift(1)\n",
    "daily_ohlc['min_14'] = daily_ohlc['close'].rolling(window=14).min().shift(1)\n",
    "\n",
    "daily_ohlc['max_30'] = daily_ohlc['close'].rolling(window=30).max().shift(1)\n",
    "daily_ohlc['min_30'] = daily_ohlc['close'].rolling(window=30).min().shift(1)\n",
    "\n",
    "daily_ohlc['max_100'] = daily_ohlc['close'].rolling(window=100).max().shift(1)\n",
    "daily_ohlc['min_100'] = daily_ohlc['close'].rolling(window=100).min().shift(1)\n",
    "\n",
    "# Cumulative max of close price\n",
    "daily_ohlc['static_peak'] = daily_ohlc['close'].cummax()\n",
    "\n",
    "# Static drawdown from that peak\n",
    "daily_ohlc['drawdown_static'] = (\n",
    "    (daily_ohlc['close'] - daily_ohlc['static_peak']) / daily_ohlc['static_peak']\n",
    ").shift(1)\n",
    "\n",
    "daily_ohlc['drawdown_30'] = (\n",
    "    (daily_ohlc['close'] - daily_ohlc['close'].rolling(window=30).max()) \n",
    "    / daily_ohlc['close'].rolling(window=30).max()\n",
    ").shift(1)\n",
    "\n",
    "# Forward-fill daily values into minute-level data\n",
    "df['daily_high'] = daily_ohlc['high'].reindex(df.index, method='ffill')\n",
    "df['daily_low'] = daily_ohlc['low'].reindex(df.index, method='ffill')\n",
    "df['daily_close'] = daily_ohlc['close'].reindex(df.index, method='ffill')\n",
    "df['true_range'] = daily_ohlc['true_range'].reindex(df.index, method='ffill')\n",
    "df['atr_14'] = daily_ohlc['atr_14'].reindex(df.index, method='ffill')\n",
    "df['ma_14'] = daily_ohlc['ma_14'].reindex(df.index, method='ffill')\n",
    "df['ma_30'] = daily_ohlc['ma_30'].reindex(df.index, method='ffill')\n",
    "df['ma_100'] = daily_ohlc['ma_100'].reindex(df.index, method='ffill')\n",
    "\n",
    "#Day and Weeknumber\n",
    "df['day_of_week'] = df.index.day_name().str[:3]\n",
    "df['week_number'] = df.index.isocalendar().week\n",
    "\n",
    "df['max_price_14'] = daily_ohlc['max_14'].reindex(df.index, method='ffill')\n",
    "df['min_price_14'] = daily_ohlc['min_14'].reindex(df.index, method='ffill')\n",
    "\n",
    "df['max_price_30'] = daily_ohlc['max_30'].reindex(df.index, method='ffill')\n",
    "df['min_price_30'] = daily_ohlc['min_30'].reindex(df.index, method='ffill')\n",
    "\n",
    "df['max_price_100'] = daily_ohlc['max_100'].reindex(df.index, method='ffill')\n",
    "df['min_price_100'] = daily_ohlc['min_100'].reindex(df.index, method='ffill')\n",
    "\n",
    "#Drawdown\n",
    "df['drawdown_static'] = daily_ohlc['drawdown_static'].reindex(df.index, method='ffill')\n",
    "df['drawdown_30'] = daily_ohlc['drawdown_30'].reindex(df.index, method='ffill')\n",
    "\n",
    "import numpy as np\n",
    "from hmmlearn.hmm import GaussianHMM\n",
    "\n",
    "# 1. Compute HMM Features on Daily Data\n",
    "daily_ohlc['log_return'] = np.log(daily_ohlc['close'] / daily_ohlc['close'].shift(1))\n",
    "daily_ohlc['volatility'] = (\n",
    "    daily_ohlc['close']\n",
    "    .rolling(window=10)\n",
    "    .apply(lambda x: np.mean((x - x.mean())**2))\n",
    ").shift(1)\n",
    "\n",
    "# 2. Drop NaNs (due to rolling/shift)\n",
    "hmm_features = daily_ohlc[['log_return', 'volatility']].dropna()\n",
    "\n",
    "# 3. Fit HMM on ALL data (no slicing)\n",
    "model = GaussianHMM(n_components=3, covariance_type='full', n_iter=75, random_state=42)\n",
    "model.fit(hmm_features)\n",
    "hmm_features['regime'] = model.predict(hmm_features)\n",
    "\n",
    "# 4. Label Regimes (Bull, Bear, Neutral) based on return means\n",
    "regime_means = hmm_features.groupby('regime')['log_return'].mean().sort_values()\n",
    "regime_mapping = {\n",
    "    regime_means.index[0]: 'Bear',\n",
    "    regime_means.index[1]: 'Neutral',\n",
    "    regime_means.index[2]: 'Bull'\n",
    "}\n",
    "hmm_features['regime_label'] = hmm_features['regime'].map(regime_mapping)\n",
    "\n",
    "# 5. Merge regime info into daily_ohlc\n",
    "daily_ohlc['regime'] = hmm_features['regime']\n",
    "daily_ohlc['regime_label'] = hmm_features['regime_label']\n",
    "\n",
    "# 6. Forward-fill daily regime into minute-level df\n",
    "df['regime'] = daily_ohlc['regime'].reindex(df.index, method='ffill')\n",
    "df['regime_label'] = daily_ohlc['regime_label'].reindex(df.index, method='ffill')\n",
    "\n",
    "\n",
    "#Optional: Inspect regime distribution\n",
    "print(df['regime_label'].value_counts())\n",
    "\n",
    "# Overwrite the original file\n",
    "df.to_csv(\"data/processed/XAUUSD/combined_data.csv\")"
   ]
  }
 ],
 "metadata": {
  "kernelspec": {
   "display_name": "Python 3.9.12 ('base')",
   "language": "python",
   "name": "python3"
  },
  "language_info": {
   "codemirror_mode": {
    "name": "ipython",
    "version": 3
   },
   "file_extension": ".py",
   "mimetype": "text/x-python",
   "name": "python",
   "nbconvert_exporter": "python",
   "pygments_lexer": "ipython3",
   "version": "3.9.12"
  },
  "orig_nbformat": 4,
  "vscode": {
   "interpreter": {
    "hash": "da4131570aad7ff77d93c6be89cfb61a61d96547c15666b9d6a932bac1ad3bd2"
   }
  }
 },
 "nbformat": 4,
 "nbformat_minor": 2
}
