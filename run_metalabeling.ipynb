{
 "cells": [
  {
   "cell_type": "code",
   "execution_count": 1,
   "metadata": {},
   "outputs": [],
   "source": [
    "import pandas as pd\n",
    "from pathlib import Path\n",
    "import logging\n",
    "import import_ipynb\n",
    "from new_strategy import Asset, BetSizingMethod\n",
    "from meta_labeling import generate_meta_labels #, train_meta_model \n",
    "\n",
    "logging.basicConfig(level=logging.INFO, format='%(asctime)s - %(levelname)s - %(message)s')\n",
    "logger = logging.getLogger(__name__)"
   ]
  },
  {
   "cell_type": "code",
   "execution_count": 2,
   "metadata": {},
   "outputs": [
    {
     "name": "stderr",
     "output_type": "stream",
     "text": [
      "2025-04-02 14:31:35,740 - WARNING - 🚫 File not found: trades_detailed_XAUUSD_kelly.csv\n",
      "2025-04-02 14:31:35,741 - INFO - ✅ Generating meta labels for trades_detailed_XAUUSD_fixed.csv\n",
      "2025-04-02 14:31:35,953 - INFO - 📁 Saved meta-labeled file: meta_labels_XAUUSD_fixed.csv\n",
      "2025-04-02 14:31:35,953 - WARNING - 🚫 File not found: trades_detailed_BTCUSD_kelly.csv\n",
      "2025-04-02 14:31:35,954 - WARNING - 🚫 File not found: trades_detailed_BTCUSD_fixed.csv\n",
      "2025-04-02 14:31:35,955 - WARNING - 🚫 File not found: trades_detailed_SPYUSD_kelly.csv\n",
      "2025-04-02 14:31:35,955 - WARNING - 🚫 File not found: trades_detailed_SPYUSD_fixed.csv\n",
      "2025-04-02 14:31:35,955 - WARNING - 🚫 File not found: trades_detailed_WTI_kelly.csv\n",
      "2025-04-02 14:31:35,956 - WARNING - 🚫 File not found: trades_detailed_WTI_fixed.csv\n"
     ]
    }
   ],
   "source": [
    "# Setup logging\n",
    "logging.basicConfig(level=logging.INFO, format=\"%(asctime)s - %(levelname)s - %(message)s\")\n",
    "\n",
    "def run_meta_labeling_for_all_combinations():\n",
    "    results_dir = Path(\"data/results\")\n",
    "    output_dir = Path(\"data/metalabels\")\n",
    "    output_dir.mkdir(parents=True, exist_ok=True)\n",
    "\n",
    "    for asset in Asset:\n",
    "        for method in BetSizingMethod:\n",
    "            filename = f\"trades_detailed_{asset.value}_{method.value}.csv\"\n",
    "            input_path = results_dir / filename\n",
    "\n",
    "            if not input_path.exists():\n",
    "                logging.warning(f\"🚫 File not found: {filename}\")\n",
    "                continue\n",
    "\n",
    "            logging.info(f\"✅ Generating meta labels for {filename}\")\n",
    "            trade_data = pd.read_csv(input_path, parse_dates=[\"entry_time\", \"exit_time\"])\n",
    "            labeled_data = generate_meta_labels(trade_data)\n",
    "\n",
    "            output_file = output_dir / f\"meta_labels_{asset.value}_{method.value}.csv\"\n",
    "            labeled_data.to_csv(output_file, index=False)\n",
    "\n",
    "            logging.info(f\"📁 Saved meta-labeled file: {output_file.name}\")\n",
    "\n",
    "run_meta_labeling_for_all_combinations()\n"
   ]
  }
 ],
 "metadata": {
  "kernelspec": {
   "display_name": "Python 3.9.12 ('base')",
   "language": "python",
   "name": "python3"
  },
  "language_info": {
   "codemirror_mode": {
    "name": "ipython",
    "version": 3
   },
   "file_extension": ".py",
   "mimetype": "text/x-python",
   "name": "python",
   "nbconvert_exporter": "python",
   "pygments_lexer": "ipython3",
   "version": "3.9.12"
  },
  "orig_nbformat": 4,
  "vscode": {
   "interpreter": {
    "hash": "da4131570aad7ff77d93c6be89cfb61a61d96547c15666b9d6a932bac1ad3bd2"
   }
  }
 },
 "nbformat": 4,
 "nbformat_minor": 2
}
