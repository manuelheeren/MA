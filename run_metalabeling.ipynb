{
 "cells": [
  {
   "cell_type": "code",
   "execution_count": 5,
   "metadata": {},
   "outputs": [],
   "source": [
    "import pandas as pd\n",
    "from pathlib import Path\n",
    "import logging\n",
    "import import_ipynb\n",
    "from new_strategy import Asset\n",
    "from meta_labeling import generate_meta_labels #, train_meta_model \n",
    "\n",
    "logging.basicConfig(level=logging.INFO, format='%(asctime)s - %(levelname)s - %(message)s')\n",
    "logger = logging.getLogger(__name__)"
   ]
  },
  {
   "cell_type": "code",
   "execution_count": 6,
   "metadata": {},
   "outputs": [],
   "source": [
    "def run_meta_labeling_for_all_assets():\n",
    "    results_dir = Path(\"data/results\")\n",
    "    labeled_dataframes = {}\n",
    "\n",
    "    for asset in Asset:\n",
    "        asset_name = asset.value\n",
    "        file_name = f\"trades_detailed_{asset_name}_fee_0_0.csv\"\n",
    "        file_path = results_dir / file_name\n",
    "\n",
    "        if not file_path.exists():\n",
    "            logger.warning(f\"Results file not found for {asset_name}\")\n",
    "            continue\n",
    "\n",
    "        df = pd.read_csv(file_path, parse_dates=[\"entry_time\", \"exit_time\"])\n",
    "        labeled_df = generate_meta_labels(df)\n",
    "\n",
    "        labeled_path = results_dir / f\"meta_labels_{asset_name}.csv\"\n",
    "        labeled_df.to_csv(labeled_path, index=False)\n",
    "        logger.info(f\"Saved labeled data: {labeled_path}\")\n",
    "\n",
    "        labeled_dataframes[asset_name] = labeled_df\n",
    "\n",
    "    return labeled_dataframes"
   ]
  }
 ],
 "metadata": {
  "kernelspec": {
   "display_name": "Python 3.9.12 ('base')",
   "language": "python",
   "name": "python3"
  },
  "language_info": {
   "codemirror_mode": {
    "name": "ipython",
    "version": 3
   },
   "file_extension": ".py",
   "mimetype": "text/x-python",
   "name": "python",
   "nbconvert_exporter": "python",
   "pygments_lexer": "ipython3",
   "version": "3.9.12"
  },
  "orig_nbformat": 4,
  "vscode": {
   "interpreter": {
    "hash": "da4131570aad7ff77d93c6be89cfb61a61d96547c15666b9d6a932bac1ad3bd2"
   }
  }
 },
 "nbformat": 4,
 "nbformat_minor": 2
}
