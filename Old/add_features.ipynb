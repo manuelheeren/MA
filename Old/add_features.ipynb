{
 "cells": [
  {
   "cell_type": "code",
   "execution_count": 1,
   "metadata": {},
   "outputs": [],
   "source": [
    "import pandas as pd\n",
    "import numpy as np\n",
    "from sklearn.ensemble import RandomForestClassifier\n",
    "from sklearn.model_selection import train_test_split\n",
    "from sklearn.metrics import classification_report\n",
    "import joblib"
   ]
  },
  {
   "cell_type": "code",
   "execution_count": 4,
   "metadata": {},
   "outputs": [],
   "source": [
    "def generate_meta_labeled_data(trade_df: pd.DataFrame, window: int = 5) -> pd.DataFrame:\n",
    "    df = trade_df.copy()\n",
    "\n",
    "    # Assign meta labels\n",
    "    def assign_meta_label(row):\n",
    "        if row['status'] == 'session_close':\n",
    "            if row['direction'] == 'long':\n",
    "                return 1 if row['exit_price'] > row['entry_price'] else 0\n",
    "            elif row['direction'] == 'short':\n",
    "                return 1 if row['exit_price'] < row['entry_price'] else 0\n",
    "        elif row['status'] == 'tp_hit':\n",
    "            return 1\n",
    "        elif row['status'] == 'sl_hit':\n",
    "            return 0\n",
    "        return np.nan\n",
    "\n",
    "    df['meta_label'] = df.apply(assign_meta_label, axis=1)\n",
    "\n",
    "    # Add rolling evaluation stats\n",
    "    df = add_rolling_stats(df, window=window)\n",
    "\n",
    "    return df\n",
    "\n",
    "def add_rolling_stats(df: pd.DataFrame, window: int = 5) -> pd.DataFrame:\n",
    "    df = df.sort_values(\"entry_time\").reset_index(drop=True)\n",
    "\n",
    "    # Rolling average PnL\n",
    "    df[f'rolling_pnl_{window}'] = df['pnl'].rolling(window=window, min_periods=1).mean()\n",
    "\n",
    "    # Rolling win rate\n",
    "    df[f'rolling_winrate_{window}'] = (\n",
    "        (df['pnl'] > 0).astype(int).rolling(window=window, min_periods=1).mean()\n",
    "    )\n",
    "\n",
    "    # Rolling standard deviation of PnL (volatility)\n",
    "    df[f'rolling_volatility_{window}'] = df['pnl'].rolling(window=window, min_periods=1).std()\n",
    "\n",
    "    return df\n",
    "\n"
   ]
  }
 ],
 "metadata": {
  "kernelspec": {
   "display_name": "Python 3.9.12 ('base')",
   "language": "python",
   "name": "python3"
  },
  "language_info": {
   "codemirror_mode": {
    "name": "ipython",
    "version": 3
   },
   "file_extension": ".py",
   "mimetype": "text/x-python",
   "name": "python",
   "nbconvert_exporter": "python",
   "pygments_lexer": "ipython3",
   "version": "3.9.12"
  },
  "orig_nbformat": 4,
  "vscode": {
   "interpreter": {
    "hash": "da4131570aad7ff77d93c6be89cfb61a61d96547c15666b9d6a932bac1ad3bd2"
   }
  }
 },
 "nbformat": 4,
 "nbformat_minor": 2
}
