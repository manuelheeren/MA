{
 "cells": [
  {
   "cell_type": "code",
   "execution_count": 1,
   "metadata": {},
   "outputs": [],
   "source": [
    "import pandas as pd\n",
    "import numpy as np\n",
    "from sklearn.ensemble import RandomForestClassifier\n",
    "from sklearn.model_selection import train_test_split\n",
    "from sklearn.metrics import classification_report\n",
    "import joblib"
   ]
  },
  {
   "cell_type": "code",
   "execution_count": 4,
   "metadata": {},
   "outputs": [],
   "source": [
    "def generate_meta_labels(trade_df: pd.DataFrame) -> pd.DataFrame:\n",
    "    df = trade_df.copy()\n",
    "    def assign_meta_label(row):\n",
    "        if row['status'] == 'session_close':  \n",
    "            if row['direction'] == 'long':\n",
    "                return 1 if row['exit_price'] > row['entry_price'] else 0\n",
    "            elif row['direction'] == 'short':\n",
    "                return 1 if row['exit_price'] < row['entry_price'] else 0\n",
    "        elif row['status'] == 'tp_hit': \n",
    "            return 1  \n",
    "        elif row['status'] == 'sl_hit':  \n",
    "            return 0 \n",
    "        return np.nan \n",
    "\n",
    "    df['meta_label'] = df.apply(assign_meta_label, axis=1)\n",
    "\n",
    "    #TBD_____________________________________________\n",
    "    #df['risk_reward'] = abs(df['take_profit'] - df['entry_price']) / abs(df['stop_loss'] - df['entry_price'])\n",
    "    #df['price_vs_refclose'] = df['entry_price'] / df['ref_close'] - 1\n",
    "    #df['hour'] = df['entry_time'].dt.hour\n",
    "    #df['day_of_week'] = df['entry_time'].dt.weekday\n",
    "    #df['is_long'] = (df['direction'] == 'long').astype(int)\n",
    "    #TBD______________________________________________\n",
    "    #features = ['risk_reward', 'price_vs_refclose', 'hour', 'day_of_week', 'is_long']\n",
    "    return df"
   ]
  }
 ],
 "metadata": {
  "kernelspec": {
   "display_name": "Python 3.9.12 ('base')",
   "language": "python",
   "name": "python3"
  },
  "language_info": {
   "codemirror_mode": {
    "name": "ipython",
    "version": 3
   },
   "file_extension": ".py",
   "mimetype": "text/x-python",
   "name": "python",
   "nbconvert_exporter": "python",
   "pygments_lexer": "ipython3",
   "version": "3.9.12"
  },
  "orig_nbformat": 4,
  "vscode": {
   "interpreter": {
    "hash": "da4131570aad7ff77d93c6be89cfb61a61d96547c15666b9d6a932bac1ad3bd2"
   }
  }
 },
 "nbformat": 4,
 "nbformat_minor": 2
}
